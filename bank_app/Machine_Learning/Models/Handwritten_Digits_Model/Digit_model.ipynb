{
 "cells": [
  {
   "cell_type": "markdown",
   "id": "cf27bbb9",
   "metadata": {},
   "source": [
    "## Import necessary libs"
   ]
  },
  {
   "cell_type": "code",
   "execution_count": 1,
   "id": "e136648a",
   "metadata": {},
   "outputs": [],
   "source": [
    "# deeper cnn model for mnist\n",
    "from numpy import mean\n",
    "from numpy import std\n",
    "from matplotlib import pyplot as plt\n",
    "from sklearn.model_selection import KFold\n",
    "from tensorflow.keras.datasets import mnist\n",
    "from tensorflow.keras.utils import to_categorical\n",
    "from tensorflow.keras.models import Sequential\n",
    "from tensorflow.keras.layers import Conv2D\n",
    "from tensorflow.keras.layers import MaxPooling2D\n",
    "from tensorflow.keras.layers import Dense\n",
    "from tensorflow.keras.layers import Flatten\n",
    "from tensorflow.keras.optimizers import SGD\n",
    "from tensorflow.keras.layers import BatchNormalization\n",
    "from keras.preprocessing.image import ImageDataGenerator\n",
    "import h5py"
   ]
  },
  {
   "cell_type": "markdown",
   "id": "956849bf",
   "metadata": {},
   "source": [
    "## Load train and test dataset + scale all the Data"
   ]
  },
  {
   "cell_type": "markdown",
   "id": "a9aa5250",
   "metadata": {},
   "source": [
    "*  **load the images and reshape** the data arrays to have a single color channel.\n",
    "*  **one hot encoding**:\n",
    "    *  use a one hot encoding for the class element of each sample, transforming the integer into a 10 element binary vector with a 1 for the index of the class value, and 0 values for all other classes.\n",
    "*  **normalize the pixel values**:  \n",
    "    *  the pixel values for each image in the dataset are in the range between black and white, or 0 and 255, so we need to normalize the pixel values of grayscale images, e.g. rescale them to the range [0,1]. This involves first converting the data type from unsigned integers to floats, then dividing the pixel values by the maximum value.\n"
   ]
  },
  {
   "cell_type": "code",
   "execution_count": 2,
   "id": "fde7f5e1",
   "metadata": {},
   "outputs": [],
   "source": [
    "def load_dataset():\n",
    "    # load dataset\n",
    "    (trainX, trainY), (testX, testY) = mnist.load_data()\n",
    "    # reshape dataset to have a single channel\n",
    "    trainX = trainX.reshape((trainX.shape[0], 28, 28, 1))\n",
    "    testX = testX.reshape((testX.shape[0], 28, 28, 1))\n",
    "    # one hot encode target values\n",
    "    trainY = to_categorical(trainY)\n",
    "    testY = to_categorical(testY)\n",
    "    return trainX, trainY, testX, testY"
   ]
  },
  {
   "cell_type": "code",
   "execution_count": 3,
   "id": "1c97eb59",
   "metadata": {},
   "outputs": [],
   "source": [
    "# scale pixels\n",
    "def prep_pixels(train, test):\n",
    "    # convert from integers to floats\n",
    "    train_norm = train.astype('float32')\n",
    "    test_norm = test.astype('float32')\n",
    "    # normalize to range 0-1\n",
    "    train_norm = train_norm / 255.0\n",
    "    test_norm = test_norm / 255.0\n",
    "    # return normalized images\n",
    "    return train_norm, test_norm"
   ]
  },
  {
   "cell_type": "markdown",
   "id": "d8f50d8f",
   "metadata": {},
   "source": [
    "## Define Model"
   ]
  },
  {
   "cell_type": "markdown",
   "id": "6de2ec30",
   "metadata": {},
   "source": [
    "#### The Front-End (Feature Extractor):  "
   ]
  },
  {
   "cell_type": "markdown",
   "id": "d2b111a0",
   "metadata": {},
   "source": [
    "\n",
    "  \n",
    "  \n",
    "   *  starting with a single **convolutional layer**  \n",
    "   \n",
    "       * with a small ***filter size (3,3)** and a modest number of nodes(filters) ***(32)***\n",
    "       * filter size of **3 by 3** because we have an **image size == 28 by 28 <<< 128 by 128** so we **HAVE TO USE** a filter size of **1 by 1 of 3 by 3** , if the image size > 128 by 128 we use a bigger filter of 5 by 5 or 7 by 7 ...\n",
    "       * a linear operation technique designed for two-dimensional input (images), involves the multiplication of input data and a 2-dimensional array of weights, called a ***filter or a kernel***.\n",
    "       * the filter is ***designed to detect a specific type of feature*** in the input.\n",
    "       * the result is a two-dimensional array of output values that represent a filtering of the input that maps the detected features in what we call a ***“feature map“***\n",
    "       * ***Multiple Filters*** <==> learning multiple features in parallel for a given input.\n",
    "       * it is common for a conv layer to learn from 32 to 512 filters in parallel.\n",
    "       * ***Multiple Layers*** <==> The stacking of conv layers allows a hierarchical decomposition of the input\n",
    "       * ***A limitation of the feature map*** output of convolutional layers is that they record the precise position of features in the input. This means that small movements in the position of the feature in the input image will result in a different feature map.\n",
    "         \n",
    "         \n",
    "   *  followed by a **max pooling layer**\n",
    "       *  must be added **after the conv layer**\n",
    "       *  operates on each feature map separately to **create a new set** of the same number of pooled feature maps\n",
    "       *  much like a filter to be applied to feature maps, ***almost always 2×2*** pixels applied with a stride of 2 pixels, and will always reduce the size of each feature map by a factor of pool size\n",
    "       *  there are ***Average Pooling , Max Pooling and Global Pooling Layers*** depending on the modeling context of your problem  \n",
    "         \n",
    "         \n",
    "   *  then be **flattened** to provide features to the classifier.  \n",
    "     \n",
    "     \n"
   ]
  },
  {
   "cell_type": "markdown",
   "id": "206df263",
   "metadata": {},
   "source": [
    "####  The Back-End (Classifer):  \n",
    "  \n"
   ]
  },
  {
   "cell_type": "markdown",
   "id": "e5111ae4",
   "metadata": {},
   "source": [
    "  \n",
    "   *  ***multi-class classification task***\n",
    "       *  require an **output layer with 10 nodes** in order to predict the probability distribution of an image belonging to each of the 10 classes.\n",
    "       *  require the use of a ***softmax activation function*** (probability function)\n",
    "       *  we can add a ***100 nodes dense layer*** to interpret the features.\n",
    "       *  All layers will use the ***ReLU activation function*** and the He weight initialization scheme for the simple reason is that we have the input data in image formats which means ***all values of the image matrix will be from 0 to 255**, and to avoid problems that can accures after conv layer or pooling we will be ***replacing all negative values with 0 and keep all the remaining values as they are***.\n"
   ]
  },
  {
   "cell_type": "markdown",
   "id": "1161f5ba",
   "metadata": {},
   "source": [
    "#### Optimization :"
   ]
  },
  {
   "cell_type": "markdown",
   "id": "9ab737bc",
   "metadata": {},
   "source": [
    "* stochastic gradient descent optimizer\n",
    "      *  an optimization algorithm \n",
    "      *  The job of the algorithm is to find a set of internal model parameters that perform well against some performance measure such as logarithmic loss or mean squared error.\n",
    "* learning rate of 0.01\n",
    "* a momentum of 0.9\n",
    "* **kernel_initializer** : used for initializing the kernel weights matrix. The weight matrix is a matrix of weights that are multiplied with the input to extract relevant feature kernels.\n",
    "* **dense layer** : also referred to as a **fully connected layer** is a layer that is **used in the final stages of the neural network**. This layer helps in changing the dimensionality of the output from the preceding layer so that **the model can easily define the relationship between the values of the data** in which the model is working.\n",
    "* and \"categorical cross-entropy\" for the  loss function\n",
    "* to accelerate the learning of a model : ***Batch normalization*** after convolutional and fully connected layers, designed to automatically standardize the inputs to a layer and has the effect of **dramatically accelerating the training process** of a neural network, the layer will keep track of statistics for each input variable and use them to standardize the data.\n",
    "* **Increase in Model Depth**: following a **VGG-like pattern** of adding more convolutional and pooling layers with the same sized filter as it is very effective at **extracting features from images.** So we will **add a double convolutional layer** with 64 filters each, followed by **another max pooling layer**."
   ]
  },
  {
   "cell_type": "markdown",
   "id": "5d835cd7",
   "metadata": {},
   "source": [
    "#### Note:  \n",
    "The **number of layers** in a model is referred to as its **depth**.  \n",
    "\n",
    "The **number of nodes** in a layer is referred to as the **width**."
   ]
  },
  {
   "cell_type": "code",
   "execution_count": 4,
   "id": "99113d06",
   "metadata": {},
   "outputs": [],
   "source": [
    "# define cnn model\n",
    "def define_model():\n",
    "    model = Sequential()\n",
    "    model.add(Conv2D(32, (3, 3), activation='relu', kernel_initializer='he_uniform', input_shape=(28, 28, 1)))\n",
    "    model.add(BatchNormalization())\n",
    "    model.add(MaxPooling2D((2, 2)))\n",
    "    model.add(Conv2D(64, (3, 3), activation='relu', kernel_initializer='he_uniform'))\n",
    "    model.add(BatchNormalization())\n",
    "    model.add(Conv2D(64, (3, 3), activation='relu', kernel_initializer='he_uniform'))\n",
    "    model.add(BatchNormalization())\n",
    "    model.add(MaxPooling2D((2, 2)))\n",
    "    model.add(Flatten())\n",
    "    model.add(Dense(100, activation='relu', kernel_initializer='he_uniform'))\n",
    "    model.add(BatchNormalization())\n",
    "    model.add(Dense(10, activation='softmax'))\n",
    "    # compile model\n",
    "    opt = SGD(learning_rate=0.01, momentum=0.9)\n",
    "    model.compile(optimizer=opt, loss='categorical_crossentropy', metrics=['accuracy'])\n",
    "    return model"
   ]
  },
  {
   "cell_type": "markdown",
   "id": "8360c4f9",
   "metadata": {},
   "source": [
    "## Evaluate Model"
   ]
  },
  {
   "cell_type": "markdown",
   "id": "c70b027f",
   "metadata": {},
   "source": [
    "*  model will be evaluated using **5-fold cross-validation**:  \n",
    "   *  5 refers to the number of groups that a given data sample is to be split into.\n",
    "   *  a popular method because and generally results in a less biased or less optimistic estimate of the model skill than other methods\n",
    "   *  ***Shuffle*** the dataset randomly.\n",
    "   *  ***Split*** the dataset into ***5 groups***\n",
    "   *  For each unique group:\n",
    "      *  Take the group as a hold out or test data set\n",
    "      *  Take the remaining groups as a training data set\n",
    "      *  Fit a model on the training set and evaluate it on the test set\n",
    "      *  Retain the evaluation score and discard the model\n",
    "   *  Summarize the skill of the model using the sample of model evaluation scores\n",
    "   *  The value of **5** was chosen to provide a baseline for both repeated evaluation and to not take long running time.\n",
    "   *  a **batch size of 32** \n",
    "         *  a hyperparameter that defines the number of samples to work through before updating the internal model parameters.\n",
    "   *  **number of epochs = 10** \n",
    "         *  a hyperparameter that defines the number times that the learning algorithm will work through the entire training dataset.\n",
    "         \n",
    "**Summary**:  \n",
    "\n",
    "Assume we have a dataset with ***60K samples*** (rows of data) and we choose a ***batch size of 32 and 10 epochs.***\n",
    "\n",
    "This means that ***the dataset will be divided into 1875 batches***, each with ***32 samples***. The model weights will be updated after each batch of 32 samples.\n",
    "\n",
    "This also means that ***one epoch will involve 1875 batches*** or 1875 ***updates to the model.***\n",
    "\n",
    "With ***10 epochs***, the model will be exposed to or ***pass through the whole dataset 10 times***. That is a total of ***320 batches during the entire training process.***"
   ]
  },
  {
   "cell_type": "code",
   "execution_count": 9,
   "id": "f3930dac",
   "metadata": {},
   "outputs": [],
   "source": [
    "# evaluate a model using k-fold cross-validation\n",
    "def evaluate_model(dataX, dataY, n_folds=5):\n",
    "    scores, histories = list(), list()\n",
    "    # prepare cross validation\n",
    "    kfold = KFold(n_folds, shuffle=True, random_state=1)\n",
    "    # enumerate splits\n",
    "    for train_ix, test_ix in kfold.split(dataX):\n",
    "        # define model\n",
    "        model = define_model()\n",
    "        # select rows for train and test\n",
    "        trainX, trainY, testX, testY = dataX[train_ix], dataY[train_ix], dataX[test_ix], dataY[test_ix]\n",
    "        # data augmentation for more enhanced results -------------------------------------------------\n",
    "        datagen = ImageDataGenerator(width_shift_range=0.1, height_shift_range=0.1, zoom_range=0.45)\n",
    "        datagen.fit(trainX)\n",
    "        datagen.fit(testX)\n",
    "        #------------- End Data augmentation ----------------------------------------------------------\n",
    "        # fit model\n",
    "        #history = model.fit(trainX, trainY, epochs=10, batch_size=32, validation_data=(testX, testY), verbose=2)\n",
    "        history = model.fit(datagen.flow(trainX, trainY, batch_size=32), epochs=10, validation_data=(datagen.flow(testX,testY)), verbose=2)\n",
    "        #verbose: 0 for no logging to stdout, 1 for progress bar logging, 2 for one log line per epoch.\n",
    "        # save model\n",
    "        model.save('final_Handwritten_digits_model.h5')\n",
    "        # evaluate model\n",
    "        _, acc = model.evaluate(testX, testY, verbose=0)\n",
    "        print('> %.3f' % (acc * 100.0))\n",
    "        # stores scores\n",
    "        scores.append(acc)\n",
    "        histories.append(history)\n",
    "    return scores, histories"
   ]
  },
  {
   "cell_type": "markdown",
   "id": "ab140ef8",
   "metadata": {},
   "source": [
    "## Results Viz"
   ]
  },
  {
   "cell_type": "markdown",
   "id": "14c1479b",
   "metadata": {},
   "source": [
    "*  the diagnostics of the **learning behavior of the model during training** + the **estimation of the model performance**:  \n",
    "   *  creating a line plot showing model performance on the train and test set during each fold of the 5-fold cross-validation.\n",
    "   *  one for loss and one for accuracy.\n",
    "   *  **Blue lines** will indicate model performance on the **training** dataset\n",
    "   *  **orange lines** will indicate performance on the **test** dataset.\n"
   ]
  },
  {
   "cell_type": "code",
   "execution_count": 10,
   "id": "97219771",
   "metadata": {},
   "outputs": [],
   "source": [
    "def summarize_diagnostics(histories):\n",
    "    for i in range(len(histories)):\n",
    "        # plot loss\n",
    "        plt.subplot(2, 1, 1)\n",
    "        plt.title('Cross Entropy Loss')\n",
    "        plt.plot(histories[i].history['loss'], color='blue', label='train')\n",
    "        plt.plot(histories[i].history['val_loss'], color='orange', label='test')\n",
    "        # plot accuracy\n",
    "        plt.subplot(2, 1, 2)\n",
    "        plt.title('Classification Accuracy')\n",
    "        plt.plot(histories[i].history['accuracy'], color='blue', label='train')\n",
    "        plt.plot(histories[i].history['val_accuracy'], color='orange', label='test')\n",
    "    plt.show()"
   ]
  },
  {
   "cell_type": "code",
   "execution_count": 11,
   "id": "c5af7cfb",
   "metadata": {},
   "outputs": [],
   "source": [
    "# summarize model performance\n",
    "def summarize_performance(scores):\n",
    "    # print summary\n",
    "    print('Accuracy: mean=%.3f std=%.3f, n=%d' % (mean(scores)*100, std(scores)*100, len(scores)))\n",
    "    # box and whisker plots of results\n",
    "    plt.boxplot(scores)\n",
    "    plt.show()"
   ]
  },
  {
   "cell_type": "markdown",
   "id": "4847f44a",
   "metadata": {},
   "source": [
    "## Testing"
   ]
  },
  {
   "cell_type": "markdown",
   "id": "bb78ef2b",
   "metadata": {},
   "source": [
    "**this cell bellow** dedicated for testing  \n",
    "when runing the cell it will take about **30mnit** to be done, and for that i turned it into mardkown cell to avoid long runs"
   ]
  },
  {
   "cell_type": "code",
   "execution_count": 12,
   "id": "0a2fe7f0",
   "metadata": {
    "pycharm": {
     "name": "#%%\n"
    }
   },
   "outputs": [
    {
     "name": "stdout",
     "output_type": "stream",
     "text": [
      "Epoch 1/10\n",
      "1500/1500 - 31s - loss: 0.3056 - accuracy: 0.9043 - val_loss: 0.1530 - val_accuracy: 0.9530\n",
      "Epoch 2/10\n",
      "1500/1500 - 36s - loss: 0.1490 - accuracy: 0.9532 - val_loss: 0.1120 - val_accuracy: 0.9662\n",
      "Epoch 3/10\n",
      "1500/1500 - 39s - loss: 0.1127 - accuracy: 0.9649 - val_loss: 0.1068 - val_accuracy: 0.9667\n",
      "Epoch 4/10\n",
      "1500/1500 - 37s - loss: 0.0982 - accuracy: 0.9690 - val_loss: 0.0927 - val_accuracy: 0.9718\n",
      "Epoch 5/10\n",
      "1500/1500 - 37s - loss: 0.0881 - accuracy: 0.9725 - val_loss: 0.0754 - val_accuracy: 0.9774\n",
      "Epoch 6/10\n",
      "1500/1500 - 37s - loss: 0.0841 - accuracy: 0.9738 - val_loss: 0.0715 - val_accuracy: 0.9793\n",
      "Epoch 7/10\n",
      "1500/1500 - 36s - loss: 0.0708 - accuracy: 0.9774 - val_loss: 0.0789 - val_accuracy: 0.9753\n",
      "Epoch 8/10\n",
      "1500/1500 - 36s - loss: 0.0743 - accuracy: 0.9769 - val_loss: 0.0684 - val_accuracy: 0.9791\n",
      "Epoch 9/10\n",
      "1500/1500 - 37s - loss: 0.0671 - accuracy: 0.9786 - val_loss: 0.0689 - val_accuracy: 0.9770\n",
      "Epoch 10/10\n",
      "1500/1500 - 37s - loss: 0.0669 - accuracy: 0.9788 - val_loss: 0.0674 - val_accuracy: 0.9800\n",
      "> 98.617\n",
      "Epoch 1/10\n",
      "1500/1500 - 36s - loss: 0.3155 - accuracy: 0.9012 - val_loss: 0.1921 - val_accuracy: 0.9395\n",
      "Epoch 2/10\n",
      "1500/1500 - 37s - loss: 0.1450 - accuracy: 0.9543 - val_loss: 0.1550 - val_accuracy: 0.9528\n",
      "Epoch 3/10\n",
      "1500/1500 - 37s - loss: 0.1161 - accuracy: 0.9652 - val_loss: 0.1260 - val_accuracy: 0.9590\n",
      "Epoch 4/10\n",
      "1500/1500 - 36s - loss: 0.1009 - accuracy: 0.9688 - val_loss: 0.0989 - val_accuracy: 0.9698\n",
      "Epoch 5/10\n",
      "1500/1500 - 37s - loss: 0.0925 - accuracy: 0.9718 - val_loss: 0.1016 - val_accuracy: 0.9678\n",
      "Epoch 6/10\n",
      "1500/1500 - 37s - loss: 0.0822 - accuracy: 0.9741 - val_loss: 0.0800 - val_accuracy: 0.9743\n",
      "Epoch 7/10\n",
      "1500/1500 - 36s - loss: 0.0788 - accuracy: 0.9754 - val_loss: 0.0800 - val_accuracy: 0.9762\n",
      "Epoch 8/10\n",
      "1500/1500 - 36s - loss: 0.0730 - accuracy: 0.9773 - val_loss: 0.0676 - val_accuracy: 0.9780\n",
      "Epoch 9/10\n",
      "1500/1500 - 37s - loss: 0.0699 - accuracy: 0.9781 - val_loss: 0.0986 - val_accuracy: 0.9680\n",
      "Epoch 10/10\n",
      "1500/1500 - 37s - loss: 0.0649 - accuracy: 0.9797 - val_loss: 0.0608 - val_accuracy: 0.9812\n",
      "> 98.942\n",
      "Epoch 1/10\n",
      "1500/1500 - 37s - loss: 0.2963 - accuracy: 0.9078 - val_loss: 0.1626 - val_accuracy: 0.9492\n",
      "Epoch 2/10\n",
      "1500/1500 - 37s - loss: 0.1384 - accuracy: 0.9572 - val_loss: 0.1117 - val_accuracy: 0.9663\n",
      "Epoch 3/10\n",
      "1500/1500 - 36s - loss: 0.1125 - accuracy: 0.9657 - val_loss: 0.0948 - val_accuracy: 0.9712\n",
      "Epoch 4/10\n",
      "1500/1500 - 36s - loss: 0.0964 - accuracy: 0.9706 - val_loss: 0.0885 - val_accuracy: 0.9737\n",
      "Epoch 5/10\n",
      "1500/1500 - 36s - loss: 0.0865 - accuracy: 0.9730 - val_loss: 0.0863 - val_accuracy: 0.9739\n",
      "Epoch 6/10\n",
      "1500/1500 - 37s - loss: 0.0830 - accuracy: 0.9738 - val_loss: 0.0809 - val_accuracy: 0.9755\n",
      "Epoch 7/10\n",
      "1500/1500 - 36s - loss: 0.0735 - accuracy: 0.9770 - val_loss: 0.0800 - val_accuracy: 0.9768\n",
      "Epoch 8/10\n",
      "1500/1500 - 36s - loss: 0.0704 - accuracy: 0.9781 - val_loss: 0.0657 - val_accuracy: 0.9790\n",
      "Epoch 9/10\n",
      "1500/1500 - 36s - loss: 0.0677 - accuracy: 0.9787 - val_loss: 0.0650 - val_accuracy: 0.9811\n",
      "Epoch 10/10\n",
      "1500/1500 - 36s - loss: 0.0644 - accuracy: 0.9801 - val_loss: 0.0571 - val_accuracy: 0.9827\n",
      "> 98.767\n",
      "Epoch 1/10\n",
      "1500/1500 - 36s - loss: 0.3163 - accuracy: 0.9016 - val_loss: 0.2329 - val_accuracy: 0.9294\n",
      "Epoch 2/10\n",
      "1500/1500 - 36s - loss: 0.1514 - accuracy: 0.9533 - val_loss: 0.1173 - val_accuracy: 0.9642\n",
      "Epoch 3/10\n",
      "1500/1500 - 36s - loss: 0.1158 - accuracy: 0.9639 - val_loss: 0.1119 - val_accuracy: 0.9647\n",
      "Epoch 4/10\n",
      "1500/1500 - 36s - loss: 0.1028 - accuracy: 0.9685 - val_loss: 0.1038 - val_accuracy: 0.9678\n",
      "Epoch 5/10\n",
      "1500/1500 - 36s - loss: 0.0918 - accuracy: 0.9717 - val_loss: 0.0882 - val_accuracy: 0.9737\n",
      "Epoch 6/10\n",
      "1500/1500 - 36s - loss: 0.0887 - accuracy: 0.9721 - val_loss: 0.0858 - val_accuracy: 0.9734\n",
      "Epoch 7/10\n",
      "1500/1500 - 37s - loss: 0.0818 - accuracy: 0.9746 - val_loss: 0.0868 - val_accuracy: 0.9732\n",
      "Epoch 8/10\n",
      "1500/1500 - 36s - loss: 0.0738 - accuracy: 0.9771 - val_loss: 0.0603 - val_accuracy: 0.9818\n",
      "Epoch 9/10\n",
      "1500/1500 - 36s - loss: 0.0702 - accuracy: 0.9780 - val_loss: 0.0648 - val_accuracy: 0.9808\n",
      "Epoch 10/10\n",
      "1500/1500 - 36s - loss: 0.0656 - accuracy: 0.9796 - val_loss: 0.0670 - val_accuracy: 0.9793\n",
      "> 98.842\n",
      "Epoch 1/10\n",
      "1500/1500 - 36s - loss: 0.3131 - accuracy: 0.9021 - val_loss: 0.1552 - val_accuracy: 0.9499\n",
      "Epoch 2/10\n",
      "1500/1500 - 36s - loss: 0.1444 - accuracy: 0.9544 - val_loss: 0.1171 - val_accuracy: 0.9641\n",
      "Epoch 3/10\n",
      "1500/1500 - 36s - loss: 0.1169 - accuracy: 0.9636 - val_loss: 0.0925 - val_accuracy: 0.9717\n",
      "Epoch 4/10\n",
      "1500/1500 - 37s - loss: 0.0962 - accuracy: 0.9703 - val_loss: 0.0891 - val_accuracy: 0.9721\n",
      "Epoch 5/10\n",
      "1500/1500 - 37s - loss: 0.0888 - accuracy: 0.9719 - val_loss: 0.0740 - val_accuracy: 0.9768\n",
      "Epoch 6/10\n",
      "1500/1500 - 36s - loss: 0.0827 - accuracy: 0.9746 - val_loss: 0.0744 - val_accuracy: 0.9783\n",
      "Epoch 7/10\n",
      "1500/1500 - 36s - loss: 0.0741 - accuracy: 0.9766 - val_loss: 0.0685 - val_accuracy: 0.9803\n",
      "Epoch 8/10\n",
      "1500/1500 - 37s - loss: 0.0726 - accuracy: 0.9768 - val_loss: 0.0632 - val_accuracy: 0.9803\n",
      "Epoch 9/10\n",
      "1500/1500 - 36s - loss: 0.0678 - accuracy: 0.9793 - val_loss: 0.0589 - val_accuracy: 0.9820\n",
      "Epoch 10/10\n",
      "1500/1500 - 36s - loss: 0.0674 - accuracy: 0.9791 - val_loss: 0.0586 - val_accuracy: 0.9822\n",
      "> 99.167\n"
     ]
    },
    {
     "data": {
      "image/png": "[encoded data removed]",
      "text/plain": [
       "<Figure size 432x288 with 2 Axes>"
      ]
     },
     "metadata": {
      "needs_background": "light"
     },
     "output_type": "display_data"
    },
    {
     "name": "stdout",
     "output_type": "stream",
     "text": [
      "Accuracy: mean=98.867 std=0.184, n=5\n"
     ]
    },
    {
     "data": {
      "image/png": "[encoded data removed]",
      "text/plain": [
       "<Figure size 432x288 with 1 Axes>"
      ]
     },
     "metadata": {
      "needs_background": "light"
     },
     "output_type": "display_data"
    }
   ],
   "source": [
    "#run the test harness for evaluating a model\n",
    "def run_test_harness():\n",
    "    # load dataset\n",
    "    trainX, trainY, testX, testY = load_dataset()\n",
    "    # prepare pixel data\n",
    "    trainX, testX = prep_pixels(trainX, testX)\n",
    "    # evaluate model\n",
    "    scores, histories = evaluate_model(trainX, trainY)\n",
    "    # learning curves\n",
    "    summarize_diagnostics(histories)\n",
    "    # summarize estimated performance\n",
    "    summarize_performance(scores)\n",
    "\n",
    "#entry point, run the test harness\n",
    "run_test_harness()"
   ]
  },
  {
   "cell_type": "markdown",
   "source": [
    "with batchnormalization : Accuracy: mean=99.125 std=0.074, n=5\n",
    "\n",
    "without batchnormalization : Accuracy: mean=99.018 std=0.120, n=5"
   ],
   "metadata": {
    "collapsed": false,
    "pycharm": {
     "name": "#%% md\n"
    }
   }
  }
 ],
 "metadata": {
  "kernelspec": {
   "display_name": "Python 3 (ipykernel)",
   "language": "python",
   "name": "python3"
  },
  "language_info": {
   "codemirror_mode": {
    "name": "ipython",
    "version": 3
   },
   "file_extension": ".py",
   "mimetype": "text/x-python",
   "name": "python",
   "nbconvert_exporter": "python",
   "pygments_lexer": "ipython3",
   "version": "3.8.12"
  }
 },
 "nbformat": 4,
 "nbformat_minor": 5
}